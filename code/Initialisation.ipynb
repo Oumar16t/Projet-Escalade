{
 "cells": [
  {
   "cell_type": "code",
   "execution_count": 25,
   "id": "3e41ec1f-b5e9-48aa-873b-77074fe625d6",
   "metadata": {
    "tags": []
   },
   "outputs": [],
   "source": [
    "import requests\n",
    "import datetime\n",
    "import time"
   ]
  },
  {
   "cell_type": "code",
   "execution_count": 27,
   "id": "846d92db-7aec-4fe8-b5fd-96608c83b0a6",
   "metadata": {
    "tags": []
   },
   "outputs": [],
   "source": [
    "# Recupérer la date actuel\n",
    "current_date = datetime.date.today()"
   ]
  },
  {
   "cell_type": "code",
   "execution_count": 3,
   "id": "686fadcd-0209-4c68-a863-bf7a5d3535c8",
   "metadata": {
    "tags": []
   },
   "outputs": [],
   "source": [
    "url = f\"https://www.meteoart.com/europe/france/ile-de-france/fontainebleau?page=past-weather#day={current_date.day}&month={current_date.month}\""
   ]
  },
  {
   "cell_type": "code",
   "execution_count": 4,
   "id": "58d21318-1f7f-476a-9ce0-4dc1b7673bbe",
   "metadata": {
    "tags": []
   },
   "outputs": [],
   "source": [
    "# Crée une liste pour stocker les dates des 45 jours précédents\n",
    "previousDate = []\n",
    "for i in range(45):\n",
    "    previousDate.append(current_date - datetime.timedelta(days = i))"
   ]
  },
  {
   "cell_type": "code",
   "execution_count": 5,
   "id": "91170380-c24e-4250-8a7a-d7cda8557850",
   "metadata": {
    "tags": []
   },
   "outputs": [],
   "source": [
    "from selenium import webdriver\n",
    "from selenium.webdriver.chrome.service import Service\n",
    "from selenium.webdriver.common.by import By\n",
    "\n",
    "# Chemin vers l'exécutable ChromeDriver\n",
    "path = \"D:\\chromedriver-win64\\chromedriver.exe\"\n",
    "# Créer un service pour ChromeDriver\n",
    "service = Service(path)\n",
    "# Initialiser le navigateur Chrome avec le service\n",
    "driver = webdriver.Chrome(service=service)"
   ]
  },
  {
   "cell_type": "code",
   "execution_count": 6,
   "id": "7406ad73-2a38-4ed5-a509-567e94cd6973",
   "metadata": {
    "tags": []
   },
   "outputs": [],
   "source": [
    "data = []\n",
    "cpt = 1\n",
    "\n",
    "# Boucle pour récupérer les données météorologiques des 45 jours précédents\n",
    "for i in previousDate:\n",
    "    url = f\"https://www.meteoart.com/europe/france/ile-de-france/fontainebleau?page=past-weather#day={i.day}&month={i.month}\"\n",
    "    driver.get(url)\n",
    "    driver.implicitly_wait(10)\n",
    "    \n",
    "    # Cliquer sur le bouton de consentement aux cookies une seule fois\n",
    "    if cpt:\n",
    "        driver.find_element(By.CLASS_NAME, \"fc-cta-consent\").click()\n",
    "        cpt-=1\n",
    "    time.sleep(5)\n",
    "    \n",
    "    # Trouver tous les éléments contenant les données météorologiques mensuelles\n",
    "    divs_month_data = driver.find_elements(By.CLASS_NAME, \"month_data_to_animate\")\n",
    "    time.sleep(3)\n",
    "    \n",
    "    # Préparer une liste pour les données du jour courant\n",
    "    txt = [i.strftime(\"%d/%m/%Y\")]\n",
    "    for div in divs_month_data:\n",
    "        txt.append(div.text)\n",
    "    data.append(txt)"
   ]
  },
  {
   "cell_type": "code",
   "execution_count": 16,
   "id": "e7d051b9-b8d1-4e55-9244-cd8f2cedb0a7",
   "metadata": {
    "tags": []
   },
   "outputs": [],
   "source": [
    "import pandas as pd"
   ]
  },
  {
   "cell_type": "code",
   "execution_count": null,
   "id": "1ff08a06-6404-4dec-89d3-df0984df2b93",
   "metadata": {
    "tags": []
   },
   "outputs": [],
   "source": [
    "# creation de notre data frame\n",
    "labels = ['date', 'tmp_max (°C)', 'tmp_min (°C)', 'precipitation (%)', 'wind (Km/h)', 'humidity (%)']\n",
    "df = pd.DataFrame(data,columns=labels)\n",
    "df"
   ]
  },
  {
   "cell_type": "code",
   "execution_count": null,
   "id": "a5b51095-7b05-4d78-a0f6-d3cd3ba8e2a7",
   "metadata": {},
   "outputs": [],
   "source": []
  }
 ],
 "metadata": {
  "kernelspec": {
   "display_name": "Python 3 (ipykernel)",
   "language": "python",
   "name": "python3"
  },
  "language_info": {
   "codemirror_mode": {
    "name": "ipython",
    "version": 3
   },
   "file_extension": ".py",
   "mimetype": "text/x-python",
   "name": "python",
   "nbconvert_exporter": "python",
   "pygments_lexer": "ipython3",
   "version": "3.11.7"
  }
 },
 "nbformat": 4,
 "nbformat_minor": 5
}
