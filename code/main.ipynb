{
 "cells": [
  {
   "cell_type": "code",
   "execution_count": 161,
   "id": "10a601be-b704-49aa-9d44-0a7bcdebfc43",
   "metadata": {
    "tags": []
   },
   "outputs": [],
   "source": [
    "import sqlite3\n",
    "import pandas as pd\n",
    "import random\n",
    "from datetime import datetime, timedelta\n",
    "from sklearn.model_selection import train_test_split\n",
    "from sklearn.preprocessing import StandardScaler\n",
    "from sklearn.neighbors import KNeighborsRegressor\n",
    "from sklearn.metrics import mean_squared_error\n",
    "from sklearn.metrics import precision_score\n",
    "import requests\n",
    "import time\n",
    "from selenium import webdriver\n",
    "from selenium.webdriver.chrome.service import Service\n",
    "from selenium.webdriver.common.by import By\n",
    "\n",
    "from test import *"
   ]
  },
  {
   "cell_type": "code",
   "execution_count": 128,
   "id": "0938753f-286b-44ef-a4ed-1e1a82fc910e",
   "metadata": {
    "tags": []
   },
   "outputs": [
    {
     "data": {
      "text/plain": [
       "'if __name__ == \"__main__\":\\n    main()'"
      ]
     },
     "execution_count": 128,
     "metadata": {},
     "output_type": "execute_result"
    }
   ],
   "source": [
    "'''if __name__ == \"__main__\":\n",
    "    main()'''"
   ]
  },
  {
   "cell_type": "code",
   "execution_count": 130,
   "id": "c5c71d5a-bd99-4d6b-a13a-33d3c21167ec",
   "metadata": {
    "tags": []
   },
   "outputs": [
    {
     "ename": "NameError",
     "evalue": "name 'create_blocks' is not defined",
     "output_type": "error",
     "traceback": [
      "\u001b[1;31m---------------------------------------------------------------------------\u001b[0m",
      "\u001b[1;31mNameError\u001b[0m                                 Traceback (most recent call last)",
      "Cell \u001b[1;32mIn[130], line 21\u001b[0m\n\u001b[0;32m     16\u001b[0m weather_data[\u001b[38;5;124m'\u001b[39m\u001b[38;5;124mdate\u001b[39m\u001b[38;5;124m'\u001b[39m] \u001b[38;5;241m=\u001b[39m pd\u001b[38;5;241m.\u001b[39mto_datetime(weather_data[\u001b[38;5;124m'\u001b[39m\u001b[38;5;124mdate\u001b[39m\u001b[38;5;124m'\u001b[39m], \u001b[38;5;28mformat\u001b[39m\u001b[38;5;241m=\u001b[39m\u001b[38;5;124m'\u001b[39m\u001b[38;5;132;01m%d\u001b[39;00m\u001b[38;5;124m/\u001b[39m\u001b[38;5;124m%\u001b[39m\u001b[38;5;124mm/\u001b[39m\u001b[38;5;124m%\u001b[39m\u001b[38;5;124mY\u001b[39m\u001b[38;5;124m'\u001b[39m)\n\u001b[0;32m     20\u001b[0m \u001b[38;5;66;03m# Créer les blocs\u001b[39;00m\n\u001b[1;32m---> 21\u001b[0m blocks \u001b[38;5;241m=\u001b[39m create_blocks(weather_data, boolder)\n\u001b[0;32m     23\u001b[0m \u001b[38;5;66;03m# Demander à l'utilisateur de choisir un bloc\u001b[39;00m\n\u001b[0;32m     24\u001b[0m \u001b[38;5;28;01mwhile\u001b[39;00m \u001b[38;5;28;01mTrue\u001b[39;00m:\n",
      "\u001b[1;31mNameError\u001b[0m: name 'create_blocks' is not defined"
     ]
    }
   ],
   "source": [
    "'''import sqlite3\n",
    "import pandas as pd'''\n",
    "\n",
    "# Charger les données\n",
    "# Connexion à la base de données\n",
    "conn = sqlite3.connect('C:\\\\Users\\\\oumar\\OneDrive\\\\Bureau\\\\Projet_Escalade\\\\boolder.db')\n",
    "cursor = conn.cursor()\n",
    "\n",
    "boolder = pd.read_sql_query(\"SELECT * FROM problems\", conn)\n",
    "conn.close()\n",
    "\n",
    "'''import random\n",
    "from datetime import datetime, timedelta'''\n",
    "\n",
    "weather_data = pd.read_excel(\"C:\\\\Users\\\\oumar\\\\OneDrive\\\\Bureau\\\\Projet_Escalade\\\\df.xlsx\")\n",
    "weather_data['date'] = pd.to_datetime(weather_data['date'], format='%d/%m/%Y')\n",
    "\n",
    "# Créer les blocs\n",
    "blocks = create_blocks(weather_data, boolder)\n",
    "\n",
    "# Demander à l'utilisateur de choisir un bloc\n",
    "while True:\n",
    "    try:\n",
    "        block_id = int(input(\"Veuillez entrer l'ID du block: \"))\n",
    "        if block_id in blocks:\n",
    "            break\n",
    "        else:\n",
    "            print(\"ID de block invalide. Veuillez réessayer.\")\n",
    "    except ValueError:\n",
    "        print(\"Veuillez entrer un nombre entier valide.\")\n",
    "\n",
    "# Filtrer les données météo pour le bloc choisi\n",
    "data_set = filtered_weather(block_id, blocks)\n",
    "\n",
    "'''from sklearn.model_selection import train_test_split\n",
    "from sklearn.preprocessing import StandardScaler\n",
    "from sklearn.neighbors import KNeighborsRegressor'''\n",
    "\n",
    "for column in data_set.columns:\n",
    "    if data_set[column].dtype == 'object':\n",
    "        data_set[column] = data_set[column].str.replace(',', '.')\n",
    "        try:\n",
    "            data_set[column] = data_set[column].astype(float)\n",
    "        except ValueError:\n",
    "            pass\n",
    "\n",
    "X = data_set.drop(columns=['note', 'date'])\n",
    "y = data_set['note']\n",
    "\n",
    "scaler = StandardScaler()\n",
    "X_scaled = scaler.fit_transform(X)\n",
    "\n",
    "X_train, X_test, y_train, y_test = train_test_split(X_scaled, y, test_size=0.2, random_state=42)\n",
    "knn = KNeighborsRegressor(n_neighbors=5)\n",
    "knn.fit(X_train, y_train)\n",
    "\n",
    "y_pred = knn.predict(X_test)\n",
    "\n",
    "'''from sklearn.metrics import mean_squared_error'''\n",
    "\n",
    "mse = mean_squared_error(y_test, y_pred)\n",
    "print(f'Mean Squared Error: {mse}')\n",
    "\n",
    "'''import requests\n",
    "import time\n",
    "import datetime\n",
    "\n",
    "from selenium import webdriver\n",
    "from selenium.webdriver.chrome.service import Service\n",
    "from selenium.webdriver.common.by import By'''\n",
    "\n",
    "path = \"D:\\chromedriver-win64\\chromedriver.exe\"\n",
    "service = Service(path)\n",
    "driver = webdriver.Chrome(service=service)\n",
    "\n",
    "# Récupération des données météorologiques actuelles à partir du site web\n",
    "path = \"D:\\\\chromedriver-win64\\\\chromedriver.exe\"\n",
    "service = Service(path)\n",
    "driver = webdriver.Chrome(service=service)\n",
    "\n",
    "current_date = datetime.date.today()\n",
    "url = f\"https://www.meteoart.com/europe/france/ile-de-france/fontainebleau?page=past-weather#day={current_date.day}&month={current_date.month}\"\n",
    "driver.get(url)\n",
    "driver.implicitly_wait(10)\n",
    "driver.find_element(By.CLASS_NAME, \"fc-cta-consent\").click()\n",
    "time.sleep(5)\n",
    "divs_month_data = driver.find_elements(By.CLASS_NAME, \"month_data_to_animate\")\n",
    "time.sleep(3)\n",
    "\n",
    "data = []\n",
    "txt = [current_date.strftime(\"%d/%m/%Y\")]\n",
    "for div in divs_month_data:\n",
    "    txt.append(div.text)\n",
    "\n",
    "data.append(txt)\n",
    "driver.quit()  # Fermer le navigateur\n",
    "\n",
    "# Créer un DataFrame pour les nouvelles données\n",
    "labels = ['date', 'tmp_max (°C)', 'tmp_min (°C)', 'precipitation (%)', 'wind (Km/h)', 'humidity (%)']\n",
    "new_weather_df = pd.DataFrame(data, columns=labels)\n",
    "\n",
    "# Normaliser les nouvelles données\n",
    "new_df = new_weather_df.drop(columns=['date'])\n",
    "new_df = new_df.replace(',', '.', regex=True).astype(float)\n",
    "new_date_weather_scaled = scaler.transform(new_df)\n",
    "\n",
    "# Prédire la note pour la nouvelle date\n",
    "predicted_note = knn.predict(new_date_weather_scaled)\n",
    "predicted_note_rounded = round(predicted_note[0])\n",
    "print(f'Predicted Note: {predicted_note_rounded}')"
   ]
  },
  {
   "cell_type": "code",
   "execution_count": null,
   "id": "d8446d7f-cefc-41d9-bf23-249dfd6f80ef",
   "metadata": {},
   "outputs": [],
   "source": []
  }
 ],
 "metadata": {
  "kernelspec": {
   "display_name": "Python 3 (ipykernel)",
   "language": "python",
   "name": "python3"
  },
  "language_info": {
   "codemirror_mode": {
    "name": "ipython",
    "version": 3
   },
   "file_extension": ".py",
   "mimetype": "text/x-python",
   "name": "python",
   "nbconvert_exporter": "python",
   "pygments_lexer": "ipython3",
   "version": "3.11.7"
  }
 },
 "nbformat": 4,
 "nbformat_minor": 5
}
